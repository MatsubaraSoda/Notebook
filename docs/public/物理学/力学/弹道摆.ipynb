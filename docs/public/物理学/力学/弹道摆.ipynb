{
 "cells": [
  {
   "cell_type": "code",
   "execution_count": 2,
   "id": "4fef1fab",
   "metadata": {},
   "outputs": [
    {
     "data": {
      "text/latex": [
       "$\\displaystyle v = \\frac{1.4142135623731 \\sqrt{g} \\sqrt{h} \\left(M + m\\right)}{m}$"
      ],
      "text/plain": [
       "<IPython.core.display.Math object>"
      ]
     },
     "metadata": {},
     "output_type": "display_data"
    }
   ],
   "source": [
    "import sympy as sp\n",
    "from IPython.display import display, Math\n",
    "\n",
    "# 定义符号\n",
    "m, M, v, vprime, g, h = sp.symbols('m M v vprime g h', real=True, positive=True)\n",
    "\n",
    "# 动量守恒\n",
    "eq_1 = sp.Eq(m * v, (m + M) * vprime)\n",
    "# 动能守恒\n",
    "eq_2 = sp.Eq(1/2 * (m + M) * vprime**2, (m + M) * g * h)\n",
    "\n",
    "# 求解 v 和 vprime\n",
    "sol = sp.solve([eq_1, eq_2], [v, vprime])\n",
    "\n",
    "# 化简结果\n",
    "v_sol = sp.simplify(sol[0][0])\n",
    "\n",
    "# 显示结果，使用换行和等号对齐格式\n",
    "display(Math(r'v = ' + sp.latex(v_sol)))"
   ]
  }
 ],
 "metadata": {
  "kernelspec": {
   "display_name": "Python 3",
   "language": "python",
   "name": "python3"
  },
  "language_info": {
   "codemirror_mode": {
    "name": "ipython",
    "version": 3
   },
   "file_extension": ".py",
   "mimetype": "text/x-python",
   "name": "python",
   "nbconvert_exporter": "python",
   "pygments_lexer": "ipython3",
   "version": "3.11.9"
  }
 },
 "nbformat": 4,
 "nbformat_minor": 5
}
